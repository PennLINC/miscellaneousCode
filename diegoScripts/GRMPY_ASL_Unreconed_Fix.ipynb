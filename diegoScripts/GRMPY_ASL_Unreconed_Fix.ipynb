{
 "cells": [
  {
   "cell_type": "code",
   "execution_count": 100,
   "metadata": {},
   "outputs": [
    {
     "name": "stderr",
     "output_type": "stream",
     "text": [
      "WARNING:Flywheel:Use \"pip install flywheel-sdk~=10.7.3\" to install a compatible version for this server\n"
     ]
    }
   ],
   "source": [
    "# Set up imports\n",
    "import sys\n",
    "sys.path.append('/Users/diegodavila/miniconda3/lib/python3.7/site-packages')\n",
    "import flywheel\n",
    "import nibabel as nb\n",
    "import os\n",
    "import re\n",
    "import numpy as np \n",
    "import pandas as pd \n",
    "\n",
    "# set up flywheel instance\n",
    "fw = flywheel.Client()\n",
    "projectContainer = fw.projects.find(\"label=GRMPY_822831\")\n",
    "projectContainer = projectContainer[0]\n",
    "sessions = projectContainer.sessions()\n",
    "subjects = projectContainer.subjects()\n",
    "\n",
    "#get list of IDs who are affected\n",
    "recon_id = pd.read_csv(\"grmpy_aslrecon.csv\", dtype=str)\n",
    "done_id = pd.read_csv(\"already_done.csv\", dtype=str)"
   ]
  },
  {
   "cell_type": "markdown",
   "metadata": {},
   "source": [
    "## Set up identifier functions"
   ]
  },
  {
   "cell_type": "code",
   "execution_count": 44,
   "metadata": {},
   "outputs": [],
   "source": [
    "def identify_recon(ses):\n",
    "    asl_to_return = None\n",
    "    is_asl = False\n",
    "    for acq in ses.acquisitions():\n",
    "        filelist = [x for x in acq.files if x.type in [\"nifti\"]]\n",
    "        for f in filelist:\n",
    "            #print(\"searching for {}_.+x{} in {}\".format(ses.subject.label,ses.label, f.name))\n",
    "            search = re.search(r\"{}_.+x{}\".format(ses.subject.label,ses.label), f.name)\n",
    "            if search is not None:\n",
    "                asl_to_return = f\n",
    "                is_asl = True\n",
    "            else:\n",
    "                continue\n",
    "        if is_asl:\n",
    "            return asl_to_return"
   ]
  },
  {
   "cell_type": "code",
   "execution_count": 45,
   "metadata": {},
   "outputs": [],
   "source": [
    "def recon_index(ses):\n",
    "    asl_to_return = None\n",
    "    is_asl = False\n",
    "    for i in range(len(ses.acquisitions())):\n",
    "        acq = ses.acquisitions()[i]\n",
    "        filelist = [x for x in acq.files if x.type in [\"nifti\"]]\n",
    "        for f in filelist:\n",
    "            #print(\"searching for {}_.+x{} in {}\".format(ses.subject.label,ses.label, f.name))\n",
    "            search = re.search(r\"{}_.+x{}\".format(ses.subject.label,ses.label), f.name)\n",
    "            if search is not None:\n",
    "                asl_index = i\n",
    "                is_asl = True\n",
    "            else:\n",
    "                continue\n",
    "        if is_asl:\n",
    "            return asl_index"
   ]
  },
  {
   "cell_type": "code",
   "execution_count": null,
   "metadata": {},
   "outputs": [],
   "source": []
  },
  {
   "cell_type": "markdown",
   "metadata": {},
   "source": [
    "## The Procedure to loop"
   ]
  },
  {
   "cell_type": "code",
   "execution_count": 42,
   "metadata": {},
   "outputs": [
    {
     "name": "stdout",
     "output_type": "stream",
     "text": [
      "searching for 88608_.+x10165 in B0map_9_ph.nii.gz\n",
      "searching for 88608_.+x10165 in B0map_8_e2.nii.gz\n",
      "searching for 88608_.+x10165 in B0map_8_e1.nii.gz\n",
      "searching for 88608_.+x10165 in TOF_3D_multi-slab_7.nii.gz\n",
      "searching for 88608_.+x10165 in TOF_3D_multi-slab_6.nii.gz\n",
      "searching for 88608_.+x10165 in TOF_3D_multi-slab_5.nii.gz\n",
      "searching for 88608_.+x10165 in TOF_3D_multi-slab_4.nii.gz\n",
      "searching for 88608_.+x10165 in T2_sagittal_SPACE_3.nii.gz\n",
      "searching for 88608_.+x10165 in MPRAGE_TI1100_ipat2_2.nii.gz\n",
      "searching for 88608_.+x10165 in bbl1_fracback1_231mb_16.nii.gz\n",
      "searching for 88608_.+x10165 in DTI_MultiShell_topup_ref_15.nii.gz\n",
      "searching for 88608_.+x10165 in DTI_MultiShell_117dir_13.nii.gz\n",
      "searching for 88608_.+x10165 in 88608_20160526x10165.nii.gz\n",
      "searching for 88608_.+x10165 in ASL_dicomref_12.nii.gz\n",
      "searching for 88608_.+x10165 in B0map_9_ph.nii.gz\n",
      "searching for 88608_.+x10165 in B0map_8_e2.nii.gz\n",
      "searching for 88608_.+x10165 in B0map_8_e1.nii.gz\n",
      "searching for 88608_.+x10165 in TOF_3D_multi-slab_7.nii.gz\n",
      "searching for 88608_.+x10165 in TOF_3D_multi-slab_6.nii.gz\n",
      "searching for 88608_.+x10165 in TOF_3D_multi-slab_5.nii.gz\n",
      "searching for 88608_.+x10165 in TOF_3D_multi-slab_4.nii.gz\n",
      "searching for 88608_.+x10165 in T2_sagittal_SPACE_3.nii.gz\n",
      "searching for 88608_.+x10165 in MPRAGE_TI1100_ipat2_2.nii.gz\n",
      "searching for 88608_.+x10165 in bbl1_fracback1_231mb_16.nii.gz\n",
      "searching for 88608_.+x10165 in DTI_MultiShell_topup_ref_15.nii.gz\n",
      "searching for 88608_.+x10165 in DTI_MultiShell_117dir_13.nii.gz\n",
      "searching for 88608_.+x10165 in 88608_20160526x10165.nii.gz\n",
      "searching for 88608_.+x10165 in ASL_dicomref_12.nii.gz\n"
     ]
    }
   ],
   "source": [
    "q = identify_recon(sessions[177])\n",
    "\n",
    "if q != None:\n",
    "    sessions[177].acquisitions()[recon_index(sessions[177])].download_file(q.name, \"asl_m0_combined.nii.gz\")\n",
    "else:\n",
    "    print(\"not found\")\n",
    "\n",
    "\n",
    "#if q != None:\n",
    "#    sessions[177].acquisitions()[12].download_file(q.name, \"asl_m0_combined.nii.gz\")\n",
    "#else:\n",
    "#    print(\"not found\")"
   ]
  },
  {
   "cell_type": "code",
   "execution_count": 20,
   "metadata": {},
   "outputs": [],
   "source": [
    "file=nb.load('asl_m0_combined.nii.gz')"
   ]
  },
  {
   "cell_type": "code",
   "execution_count": 21,
   "metadata": {},
   "outputs": [
    {
     "data": {
      "text/plain": [
       "<nibabel.nifti1.Nifti1Image at 0x11e8c3e48>"
      ]
     },
     "execution_count": 21,
     "metadata": {},
     "output_type": "execute_result"
    }
   ],
   "source": [
    "file"
   ]
  },
  {
   "cell_type": "code",
   "execution_count": 22,
   "metadata": {},
   "outputs": [
    {
     "data": {
      "text/plain": [
       "(64, 64, 32, 82)"
      ]
     },
     "execution_count": 22,
     "metadata": {},
     "output_type": "execute_result"
    }
   ],
   "source": [
    "data1=file.get_data()\n",
    "data1.shape"
   ]
  },
  {
   "cell_type": "code",
   "execution_count": 23,
   "metadata": {},
   "outputs": [],
   "source": [
    "asl=data1[:,:,:,0:80]\n",
    "m0=data1[:,:,:,80:82]"
   ]
  },
  {
   "cell_type": "code",
   "execution_count": 24,
   "metadata": {},
   "outputs": [],
   "source": [
    "aslfile=nb.Nifti1Image(dataobj=asl,header=file.header,affine=file.affine)\n",
    "mofile=nb.Nifti1Image(dataobj=m0,header=file.header,affine=file.affine)"
   ]
  },
  {
   "cell_type": "code",
   "execution_count": 25,
   "metadata": {},
   "outputs": [],
   "source": [
    "nb.save(aslfile,filename='asl_reconstructed.nii.gz')\n",
    "nb.save(mofile,filename='m0_reconstructed.nii.gz')"
   ]
  },
  {
   "cell_type": "code",
   "execution_count": null,
   "metadata": {},
   "outputs": [],
   "source": [
    "# Upload the split M0 and ASL\n",
    "acquisition = session.add_acquisition(label='ASL')\n",
    "\n",
    "acquisition.upload_file('asl_reconstructed.nii.gz')\n",
    "acquisition.upload_file('m0_reconstructed.nii.gz')"
   ]
  },
  {
   "cell_type": "code",
   "execution_count": 26,
   "metadata": {},
   "outputs": [
    {
     "data": {
      "text/plain": [
       "0"
      ]
     },
     "execution_count": 26,
     "metadata": {},
     "output_type": "execute_result"
    }
   ],
   "source": [
    "# Cleanup\n",
    "os.system('rm asl_reconstructed.nii.gz')\n",
    "os.system('rm m0_reconstructed.nii.gz')\n",
    "os.system('rm asl_m0_combined.nii.gz')"
   ]
  },
  {
   "cell_type": "code",
   "execution_count": null,
   "metadata": {},
   "outputs": [],
   "source": []
  },
  {
   "cell_type": "code",
   "execution_count": null,
   "metadata": {},
   "outputs": [],
   "source": []
  },
  {
   "cell_type": "markdown",
   "metadata": {},
   "source": [
    "### The Loop "
   ]
  },
  {
   "cell_type": "code",
   "execution_count": 106,
   "metadata": {},
   "outputs": [
    {
     "name": "stdout",
     "output_type": "stream",
     "text": [
      "Reconstructed ASL was not found in 9942\n",
      "Uploading ASL and M0 to 9995\n",
      "Reconstructed ASL was not found in 9970\n",
      "Reconstructed ASL was not found in 9969\n",
      "Reconstructed ASL was not found in 9968\n",
      "Reconstructed ASL was not found in 9958\n",
      "Reconstructed ASL was not found in 9956\n",
      "Reconstructed ASL was not found in 9955\n",
      "Reconstructed ASL was not found in 9947\n",
      "Uploading ASL and M0 to 10180\n",
      "Uploading ASL and M0 to 10165\n",
      "Uploading ASL and M0 to 10163\n",
      "Uploading ASL and M0 to 10161\n",
      "Uploading ASL and M0 to 10152\n",
      "Uploading ASL and M0 to 10151\n",
      "Uploading ASL and M0 to 10150\n",
      "Uploading ASL and M0 to 10149\n",
      "Uploading ASL and M0 to 10148\n",
      "Uploading ASL and M0 to 10147\n",
      "Uploading ASL and M0 to 10133\n",
      "Uploading ASL and M0 to 10132\n",
      "Uploading ASL and M0 to 10131\n",
      "Reconstructed ASL was not found in 10134\n",
      "Reconstructed ASL was not found in 10127\n",
      "Reconstructed ASL was not found in 10156\n",
      "Reconstructed ASL was not found in 10158\n",
      "Reconstructed ASL was not found in 10115\n",
      "Reconstructed ASL was not found in 10153\n",
      "Reconstructed ASL was not found in 10136\n",
      "Reconstructed ASL was not found in 10137\n",
      "Reconstructed ASL was not found in 10117\n",
      "Reconstructed ASL was not found in 10145\n",
      "Reconstructed ASL was not found in 10138\n",
      "Reconstructed ASL was not found in 10121\n",
      "Reconstructed ASL was not found in 10120\n",
      "Reconstructed ASL was not found in 10126\n",
      "Reconstructed ASL was not found in 10142\n"
     ]
    }
   ],
   "source": [
    "for i in range(len(sessions)):\n",
    "\n",
    "    # check if it's in the list of IDs \n",
    "    if (sessions[i].label in recon_id.values) and (sessions[i].label not in done_id.values):\n",
    "        \n",
    "        # download the combined nifti\n",
    "        q = identify_recon(sessions[i])\n",
    "\n",
    "        if q != None:\n",
    "            sessions[i].acquisitions()[recon_index(sessions[i])].download_file(q.name, \"asl_m0_combined.nii.gz\")\n",
    "            \n",
    "            # load in the combined nifti\n",
    "            if os.path.getsize('/Users/diegodavila/Documents/ASL_TEMPORARY_STORAGE/asl_m0_combined.nii.gz') > 0:\n",
    "                file=nb.load('asl_m0_combined.nii.gz')\n",
    "            else:\n",
    "                os.system('rm asl_m0_combined.nii.gz')\n",
    "                \n",
    "\n",
    "            # split procedure\n",
    "            data1=file.get_data()\n",
    "            asl=data1[:,:,:,0:80]\n",
    "            m0=data1[:,:,:,80:82]\n",
    "            aslfile=nb.Nifti1Image(dataobj=asl,header=file.header,affine=file.affine)\n",
    "            mofile=nb.Nifti1Image(dataobj=m0,header=file.header,affine=file.affine)\n",
    "            nb.save(aslfile,filename='asl_reconstructed.nii.gz')\n",
    "            nb.save(mofile,filename='m0_reconstructed.nii.gz')\n",
    "\n",
    "            # Upload to Flywheel\n",
    "            acquisition = sessions[i].add_acquisition(label='ASL')\n",
    "            acquisition.upload_file('asl_reconstructed.nii.gz')\n",
    "            acquisition.upload_file('m0_reconstructed.nii.gz')\n",
    "            print(\"Uploading ASL and M0 to {}\".format(sessions[i].label))\n",
    "\n",
    "            # Cleanup\n",
    "            os.system('rm asl_reconstructed.nii.gz')\n",
    "            os.system('rm m0_reconstructed.nii.gz')\n",
    "            os.system('rm asl_m0_combined.nii.gz')\n",
    "\n",
    "\n",
    "        else:\n",
    "            print(\"Reconstructed ASL was not found in {}\".format(sessions[i].label))\n"
   ]
  },
  {
   "cell_type": "markdown",
   "metadata": {},
   "source": [
    "### Which are missing the recon ASL?"
   ]
  },
  {
   "cell_type": "code",
   "execution_count": 107,
   "metadata": {},
   "outputs": [
    {
     "name": "stdout",
     "output_type": "stream",
     "text": [
      "9942\n",
      "9970\n",
      "9969\n",
      "9968\n",
      "9958\n",
      "9956\n",
      "9955\n",
      "9947\n",
      "10134\n",
      "10127\n",
      "10156\n",
      "10158\n",
      "10115\n",
      "10153\n",
      "10136\n",
      "10137\n",
      "10117\n",
      "10145\n",
      "10138\n",
      "10121\n",
      "10120\n",
      "10126\n",
      "10142\n"
     ]
    }
   ],
   "source": [
    "for i in range(len(sessions)):\n",
    "    if (sessions[i].label in recon_id.values):     \n",
    "        q = identify_recon(sessions[i])\n",
    "        \n",
    "        if q != None:\n",
    "            continue \n",
    "        else:\n",
    "            print(\"{}\".format(sessions[i].label))\n",
    "\n"
   ]
  },
  {
   "cell_type": "code",
   "execution_count": null,
   "metadata": {},
   "outputs": [],
   "source": []
  }
 ],
 "metadata": {
  "kernelspec": {
   "display_name": "Python 3",
   "language": "python",
   "name": "python3"
  },
  "language_info": {
   "codemirror_mode": {
    "name": "ipython",
    "version": 3
   },
   "file_extension": ".py",
   "mimetype": "text/x-python",
   "name": "python",
   "nbconvert_exporter": "python",
   "pygments_lexer": "ipython3",
   "version": "3.7.1"
  }
 },
 "nbformat": 4,
 "nbformat_minor": 4
}
