{
 "cells": [
  {
   "cell_type": "code",
   "execution_count": 1,
   "metadata": {},
   "outputs": [],
   "source": [
    "import sys\n",
    "sys.path.append('/Users/diegodavila/miniconda3/lib/python3.7/site-packages')\n",
    "import flywheel\n",
    "import os"
   ]
  },
  {
   "cell_type": "code",
   "execution_count": 2,
   "metadata": {},
   "outputs": [
    {
     "name": "stdout",
     "output_type": "stream",
     "text": [
      "Loading flywheel data\n"
     ]
    },
    {
     "name": "stderr",
     "output_type": "stream",
     "text": [
      "/Users/diegodavila/miniconda3/lib/python3.7/site-packages/flywheel/flywheel.py:5758: UserWarning: Client version 9.0.3 does not match server version 11.3.4. Please update your client version!\n",
      "  warnings.warn('Client version {} does not match server version {}. Please update your client version!'.format(SDK_VERSION, release_version))\n",
      "WARNING:Flywheel:Use \"pip install flywheel-sdk~=11.3.4\" to install a compatible version for this server\n"
     ]
    }
   ],
   "source": [
    "fw = flywheel.Client()\n",
    "proj = fw.lookup('bbl/GRMPY_822831')\n",
    "sessions = proj.sessions()\n",
    "sessions = [fw.get(x.id) for x in sessions]"
   ]
  },
  {
   "cell_type": "code",
   "execution_count": 3,
   "metadata": {},
   "outputs": [],
   "source": [
    "for ses in sessions:\n",
    "\n",
    "    analyses = ses.analyses\n",
    "    analyses_to_delete = []\n",
    "\n",
    "    for al in analyses:\n",
    "    \n",
    "      #if (\"xcp\" in al.job.gear_info.name) or (\"fmri\" in al.job.gear_info.name) or (\"qsi\" in al.job.gear_info.name):\n",
    "        if (\"xcp\" in al.job.gear_info.name): #or (\"fmri\" in al.job.gear_info.name):\n",
    "            analyses_to_delete.append(al.id)\n",
    "\n",
    "    if analyses_to_delete:\n",
    "        for al in set(analyses_to_delete):\n",
    "            fw.delete_container_analysis(ses.id, al)\n",
    "\n",
    "\n",
    "\n"
   ]
  },
  {
   "cell_type": "code",
   "execution_count": null,
   "metadata": {},
   "outputs": [],
   "source": []
  }
 ],
 "metadata": {
  "kernelspec": {
   "display_name": "Python 3",
   "language": "python",
   "name": "python3"
  },
  "language_info": {
   "codemirror_mode": {
    "name": "ipython",
    "version": 3
   },
   "file_extension": ".py",
   "mimetype": "text/x-python",
   "name": "python",
   "nbconvert_exporter": "python",
   "pygments_lexer": "ipython3",
   "version": "3.7.1"
  }
 },
 "nbformat": 4,
 "nbformat_minor": 2
}
