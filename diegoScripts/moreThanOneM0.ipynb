{
 "cells": [
  {
   "cell_type": "code",
   "execution_count": 1,
   "metadata": {},
   "outputs": [
    {
     "name": "stderr",
     "output_type": "stream",
     "text": [
      "/Users/diegodavila/miniconda3/lib/python3.7/site-packages/flywheel/flywheel.py:5758: UserWarning: Client version 9.0.3 does not match server version 11.3.4. Please update your client version!\n",
      "  warnings.warn('Client version {} does not match server version {}. Please update your client version!'.format(SDK_VERSION, release_version))\n",
      "WARNING:Flywheel:Use \"pip install flywheel-sdk~=11.3.4\" to install a compatible version for this server\n"
     ]
    }
   ],
   "source": [
    "import sys\n",
    "sys.path.append('/Users/diegodavila/miniconda3/lib/python3.7/site-packages')\n",
    "import flywheel\n",
    "\n",
    "fw = flywheel.Client()\n",
    "proj = fw.lookup('bbl/GRMPY_822831')\n",
    "sessions = proj.sessions()\n",
    "sessions = [fw.get(x.id) for x in sessions]\n"
   ]
  },
  {
   "cell_type": "code",
   "execution_count": null,
   "metadata": {},
   "outputs": [],
   "source": []
  },
  {
   "cell_type": "code",
   "execution_count": 14,
   "metadata": {},
   "outputs": [],
   "source": [
    "def m0_count(acq):\n",
    "    \n",
    "    m0_count = 0\n",
    "\n",
    "    \n",
    "    acq = fw.get(acq.id)\n",
    "    filelist = [x for x in acq.files if x.type in [\"nifti\"]]\n",
    "    \n",
    "    for f in filelist:\n",
    "        \n",
    "        if f.type == \"nifti\":\n",
    "            if 'BIDS' in f.info:\n",
    "                if 'Filename' in f.info['BIDS']:\n",
    "                    if 'm0' in f.info['BIDS']['Filename']:\n",
    "                        m0_count += 1\n",
    "    if m0_count > 1:\n",
    "        return True\n",
    "    else:\n",
    "        return False\n",
    "        \n"
   ]
  },
  {
   "cell_type": "code",
   "execution_count": 16,
   "metadata": {},
   "outputs": [
    {
     "data": {
      "text/plain": [
       "True"
      ]
     },
     "execution_count": 16,
     "metadata": {},
     "output_type": "execute_result"
    }
   ],
   "source": [
    "has_multiple=[m0_count(x) for x in sessions[206].acquisitions()]\n",
    "True in has_multiple"
   ]
  },
  {
   "cell_type": "code",
   "execution_count": 17,
   "metadata": {},
   "outputs": [
    {
     "name": "stdout",
     "output_type": "stream",
     "text": [
      "11170\n",
      "11165\n",
      "11150\n",
      "11153\n",
      "11149\n",
      "11139\n",
      "11136\n",
      "11128\n",
      "11123\n",
      "11108\n",
      "11104\n",
      "10999\n",
      "10988\n",
      "10982\n",
      "10975\n",
      "10974\n",
      "10976\n",
      "10963\n",
      "10957\n",
      "10947\n",
      "10932\n",
      "10905\n",
      "10885\n",
      "10876\n",
      "10863\n",
      "10855\n",
      "10858\n",
      "10856\n",
      "10852\n",
      "10846\n",
      "10830\n",
      "10785\n",
      "10816\n",
      "10781\n",
      "10792\n",
      "10787\n",
      "10786\n",
      "10777\n",
      "10778\n",
      "10780\n",
      "10779\n",
      "10776\n",
      "10762\n",
      "10761\n",
      "10758\n",
      "10740\n",
      "10593\n",
      "10717\n",
      "10708\n",
      "10702\n",
      "10697\n",
      "10679\n",
      "10682\n",
      "10670\n",
      "10671\n",
      "10669\n",
      "10666\n",
      "10641\n",
      "10640\n",
      "10643\n",
      "10642\n",
      "10633\n",
      "10632\n",
      "10626\n",
      "10627\n",
      "10625\n",
      "10943\n",
      "10939\n",
      "10922\n",
      "10916\n",
      "10910\n",
      "10891\n",
      "10890\n",
      "10878\n",
      "10619\n",
      "10624\n",
      "10616\n",
      "10608\n",
      "10607\n",
      "10603\n",
      "10597\n",
      "10595\n",
      "10594\n",
      "10956\n",
      "10587\n",
      "10586\n",
      "10585\n",
      "10584\n",
      "10582\n",
      "10580\n",
      "10577\n",
      "10576\n",
      "10573\n",
      "10572\n",
      "10571\n",
      "10569\n",
      "10565\n",
      "10582\n",
      "10554\n",
      "10540\n",
      "10496\n",
      "10494\n",
      "10474\n",
      "10471\n",
      "10445\n",
      "10435\n",
      "10434\n",
      "10417\n",
      "10402\n",
      "10385\n",
      "10380\n",
      "10376\n",
      "10366\n",
      "10362\n",
      "10361\n",
      "10356\n",
      "10352\n",
      "10333\n",
      "10329\n",
      "10326\n",
      "10315\n",
      "10302\n",
      "10279\n",
      "10278\n",
      "10275\n",
      "11188\n",
      "11192\n",
      "11193\n",
      "11196\n",
      "11225\n",
      "11231\n",
      "11230\n",
      "11245\n",
      "11250\n",
      "11251\n",
      "11252\n",
      "11253\n",
      "11254\n",
      "11256\n",
      "11262\n",
      "11287\n",
      "11303\n"
     ]
    }
   ],
   "source": [
    "for i in range(len(sessions)):\n",
    "    has_multiple=[m0_count(x) for x in sessions[i].acquisitions()]\n",
    "    if True in has_multiple:\n",
    "        print(sessions[i].label)"
   ]
  },
  {
   "cell_type": "code",
   "execution_count": null,
   "metadata": {},
   "outputs": [],
   "source": []
  },
  {
   "cell_type": "code",
   "execution_count": null,
   "metadata": {},
   "outputs": [],
   "source": []
  },
  {
   "cell_type": "code",
   "execution_count": null,
   "metadata": {},
   "outputs": [],
   "source": []
  },
  {
   "cell_type": "code",
   "execution_count": null,
   "metadata": {},
   "outputs": [],
   "source": []
  }
 ],
 "metadata": {
  "kernelspec": {
   "display_name": "Python 3",
   "language": "python",
   "name": "python3"
  },
  "language_info": {
   "codemirror_mode": {
    "name": "ipython",
    "version": 3
   },
   "file_extension": ".py",
   "mimetype": "text/x-python",
   "name": "python",
   "nbconvert_exporter": "python",
   "pygments_lexer": "ipython3",
   "version": "3.7.1"
  }
 },
 "nbformat": 4,
 "nbformat_minor": 2
}
