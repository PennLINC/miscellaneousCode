{
 "cells": [
  {
   "cell_type": "code",
   "execution_count": 1,
   "metadata": {},
   "outputs": [
    {
     "name": "stderr",
     "output_type": "stream",
     "text": [
      "/Users/diegodavila/miniconda3/lib/python3.7/site-packages/flywheel/flywheel.py:5758: UserWarning: Client version 9.0.3 does not match server version 11.3.4. Please update your client version!\n",
      "  warnings.warn('Client version {} does not match server version {}. Please update your client version!'.format(SDK_VERSION, release_version))\n",
      "WARNING:Flywheel:Use \"pip install flywheel-sdk~=11.3.4\" to install a compatible version for this server\n"
     ]
    }
   ],
   "source": [
    "import sys\n",
    "sys.path.append('/Users/diegodavila/miniconda3/lib/python3.7/site-packages')\n",
    "import flywheel \n",
    "fw = flywheel.Client()\n",
    "proj = fw.lookup('bbl/GRMPY_822831')\n",
    "sessions = proj.sessions()\n",
    "sessions = [fw.get(x.id) for x in sessions]"
   ]
  },
  {
   "cell_type": "code",
   "execution_count": 9,
   "metadata": {},
   "outputs": [
    {
     "name": "stdout",
     "output_type": "stream",
     "text": [
      "neuroec.zip\n",
      "ALL_PMU.zip\n",
      "cbf_basil_score_scrub.dsn\n"
     ]
    }
   ],
   "source": [
    "for file in sessions[200].files:\n",
    "    print(file.name)"
   ]
  },
  {
   "cell_type": "code",
   "execution_count": 10,
   "metadata": {},
   "outputs": [
    {
     "data": {
      "text/plain": [
       "[{'classification': {},\n",
       "  'created': datetime.datetime(2019, 5, 20, 19, 20, 0, 133000, tzinfo=tzutc()),\n",
       "  'hash': 'v0-sha384-6197c24099a700b154500ca9d3a0e56c2a05c434bf950338bb4011cd88b824a3e8deff9f25660b512377f737b990006e',\n",
       "  'id': '1ae2de17-b8ac-454d-a6a9-ff799334dc5a',\n",
       "  'info': {},\n",
       "  'info_exists': None,\n",
       "  'mimetype': 'application/zip',\n",
       "  'modality': None,\n",
       "  'modified': datetime.datetime(2019, 5, 20, 19, 19, 59, 836000, tzinfo=tzutc()),\n",
       "  'name': 'neuroec.zip',\n",
       "  'origin': {'id': 'kpiiwaa@upenn.edu',\n",
       "             'method': None,\n",
       "             'name': None,\n",
       "             'type': 'user',\n",
       "             'via': None},\n",
       "  'replaced': None,\n",
       "  'size': 37209,\n",
       "  'tags': [],\n",
       "  'type': 'archive',\n",
       "  'zip_member_count': None}, {'classification': {},\n",
       "  'created': datetime.datetime(2019, 5, 20, 19, 21, 8, 717000, tzinfo=tzutc()),\n",
       "  'hash': 'v0-sha384-562b027718123ac7e524db4eeb9faa6980ecaa9abec0c891406566994135186b84b9de0c3a7ee22a41075c57ea215e77',\n",
       "  'id': '5b3d5f99-61ab-4ef3-b3b0-c8d8ed31bdce',\n",
       "  'info': {},\n",
       "  'info_exists': None,\n",
       "  'mimetype': 'application/zip',\n",
       "  'modality': None,\n",
       "  'modified': datetime.datetime(2019, 5, 20, 19, 21, 8, 35000, tzinfo=tzutc()),\n",
       "  'name': 'ALL_PMU.zip',\n",
       "  'origin': {'id': 'kpiiwaa@upenn.edu',\n",
       "             'method': None,\n",
       "             'name': None,\n",
       "             'type': 'user',\n",
       "             'via': None},\n",
       "  'replaced': None,\n",
       "  'size': 2583396,\n",
       "  'tags': [],\n",
       "  'type': 'archive',\n",
       "  'zip_member_count': None}, {'classification': {},\n",
       "  'created': datetime.datetime(2019, 7, 11, 17, 9, 23, 163000, tzinfo=tzutc()),\n",
       "  'hash': 'v0-sha384-f67fb9e11ddc788eeb8917e836b3fc0b36cb86c450e4b799c6f6473b87755f386b5b0c40e75ba37271f71fd0bb3d52db',\n",
       "  'id': '6daa562f-077b-4b73-bcd0-575e6910f2c6',\n",
       "  'info': {},\n",
       "  'info_exists': None,\n",
       "  'mimetype': 'application/octet-stream',\n",
       "  'modality': None,\n",
       "  'modified': datetime.datetime(2019, 7, 11, 17, 9, 22, 454000, tzinfo=tzutc()),\n",
       "  'name': 'cbf_basil_score_scrub.dsn',\n",
       "  'origin': {'id': 'diegodav@upenn.edu',\n",
       "             'method': None,\n",
       "             'name': None,\n",
       "             'type': 'user',\n",
       "             'via': None},\n",
       "  'replaced': None,\n",
       "  'size': 4025,\n",
       "  'tags': [],\n",
       "  'type': None,\n",
       "  'zip_member_count': None}]"
      ]
     },
     "execution_count": 10,
     "metadata": {},
     "output_type": "execute_result"
    }
   ],
   "source": [
    "sessions[200].files"
   ]
  },
  {
   "cell_type": "code",
   "execution_count": 15,
   "metadata": {},
   "outputs": [
    {
     "name": "stdout",
     "output_type": "stream",
     "text": [
      "20327\n",
      "20387\n",
      "20362\n",
      "20322\n",
      "20313\n",
      "20320\n",
      "20197\n",
      "20189\n",
      "20153\n",
      "20151\n",
      "20011\n",
      "19977\n",
      "20120\n",
      "20017\n",
      "20386\n",
      "20326\n",
      "20461\n",
      "86486\n",
      "112028\n",
      "107055\n",
      "83372\n",
      "20589\n",
      "98422\n",
      "94492\n",
      "95257\n",
      "115800\n",
      "98535\n",
      "114723\n",
      "126921\n",
      "20649\n",
      "20699\n",
      "20809\n",
      "20888\n",
      "20940\n",
      "20941\n",
      "20963\n",
      "20974\n",
      "20949\n",
      "21016\n",
      "21056\n",
      "21085\n"
     ]
    },
    {
     "data": {
      "text/plain": [
       "41"
      ]
     },
     "execution_count": 15,
     "metadata": {},
     "output_type": "execute_result"
    }
   ],
   "source": [
    "counter = 0\n",
    "for ses in range(len(sessions)):\n",
    "    for file in sessions[ses].files:\n",
    "        if 'PMU' in file.name:\n",
    "            counter += 1\n",
    "            print(sessions[ses].subject.label) # this gives bblid\n",
    "            #print(sessions[ses].label) #this gives scanid\n",
    "            \n",
    "counter"
   ]
  },
  {
   "cell_type": "code",
   "execution_count": null,
   "metadata": {},
   "outputs": [],
   "source": []
  },
  {
   "cell_type": "code",
   "execution_count": null,
   "metadata": {},
   "outputs": [],
   "source": []
  },
  {
   "cell_type": "code",
   "execution_count": null,
   "metadata": {},
   "outputs": [],
   "source": []
  },
  {
   "cell_type": "code",
   "execution_count": null,
   "metadata": {},
   "outputs": [],
   "source": []
  }
 ],
 "metadata": {
  "kernelspec": {
   "display_name": "Python 3",
   "language": "python",
   "name": "python3"
  },
  "language_info": {
   "codemirror_mode": {
    "name": "ipython",
    "version": 3
   },
   "file_extension": ".py",
   "mimetype": "text/x-python",
   "name": "python",
   "nbconvert_exporter": "python",
   "pygments_lexer": "ipython3",
   "version": "3.7.1"
  }
 },
 "nbformat": 4,
 "nbformat_minor": 2
}
